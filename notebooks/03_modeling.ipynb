{
 "cells": [
  {
   "cell_type": "code",
   "execution_count": 1,
   "id": "7f10df8d",
   "metadata": {},
   "outputs": [],
   "source": [
    "# ------------------------------\n",
    "# 0. Setup\n",
    "# ------------------------------\n",
    "import numpy as np\n",
    "import glob\n",
    "import os\n",
    "from sklearn.model_selection import train_test_split\n",
    "from sklearn.preprocessing import StandardScaler\n",
    "from sklearn.metrics import classification_report, confusion_matrix\n",
    "\n",
    "# Paths\n",
    "FEATURE_DIR = \"../data/features\""
   ]
  },
  {
   "cell_type": "code",
   "execution_count": 3,
   "id": "0dff2fbf",
   "metadata": {},
   "outputs": [
    {
     "name": "stdout",
     "output_type": "stream",
     "text": [
      "Loaded A01T: X=(256, 25, 1001), y=(256,)\n",
      "Loaded A02T: X=(272, 25, 1001), y=(272,)\n",
      "Loaded A03T: X=(284, 25, 1001), y=(284,)\n",
      "Loaded A04T: X=(284, 25, 1001), y=(284,)\n",
      "Loaded A05T: X=(268, 25, 1001), y=(268,)\n",
      "Loaded A06T: X=(284, 25, 1001), y=(284,)\n",
      "Loaded A07T: X=(272, 25, 1001), y=(272,)\n",
      "Loaded A08T: X=(248, 25, 1001), y=(248,)\n",
      "Loaded A09T: X=(236, 25, 1001), y=(236,)\n",
      "Final dataset shape: (2404, 25, 1001) (2404,)\n"
     ]
    }
   ],
   "source": [
    "# ------------------------------\n",
    "# 1. Load all subject data\n",
    "# ------------------------------\n",
    "X_list, y_list = [], []\n",
    "\n",
    "for subj_X_path in glob.glob(os.path.join(FEATURE_DIR, \"*_X.npy\")):\n",
    "    subj_id = os.path.basename(subj_X_path).split(\"_\")[0]  # e.g. \"A01T\"\n",
    "    subj_y_path = subj_X_path.replace(\"_X.npy\", \"_y.npy\")\n",
    "\n",
    "    if not os.path.exists(subj_y_path):\n",
    "        print(f\"Missing labels for {subj_id}, skipping\")\n",
    "        continue\n",
    "\n",
    "    X_subj = np.load(subj_X_path)\n",
    "    y_subj = np.load(subj_y_path)\n",
    "\n",
    "    print(f\"Loaded {subj_id}: X={X_subj.shape}, y={y_subj.shape}\")\n",
    "\n",
    "    X_list.append(X_subj)\n",
    "    y_list.append(y_subj)\n",
    "\n",
    "# Concatenate across subjects\n",
    "X = np.vstack(X_list)\n",
    "y = np.hstack(y_list)\n",
    "\n",
    "print(\"Final dataset shape:\", X.shape, y.shape)"
   ]
  },
  {
   "cell_type": "code",
   "execution_count": 4,
   "id": "049acd01",
   "metadata": {},
   "outputs": [
    {
     "name": "stdout",
     "output_type": "stream",
     "text": [
      "Train: (1538, 25025) Val: (385, 25025) Test: (481, 25025)\n"
     ]
    }
   ],
   "source": [
    "# ------------------------------\n",
    "# 2. Train/Val/Test split\n",
    "# ------------------------------\n",
    "# Flatten (channels × timepoints) -> single feature vector per trial\n",
    "n_trials, n_channels, n_times = X.shape\n",
    "X_flat = X.reshape(n_trials, n_channels * n_times)\n",
    "\n",
    "# First split into train+test\n",
    "X_train, X_test, y_train, y_test = train_test_split(\n",
    "    X_flat, y, test_size=0.2, random_state=42, stratify=y\n",
    ")\n",
    "\n",
    "# Further split train into train+val\n",
    "X_train, X_val, y_train, y_val = train_test_split(\n",
    "    X_train, y_train, test_size=0.2, random_state=42, stratify=y_train\n",
    ")\n",
    "\n",
    "print(\"Train:\", X_train.shape, \"Val:\", X_val.shape, \"Test:\", X_test.shape)"
   ]
  },
  {
   "cell_type": "code",
   "execution_count": 5,
   "id": "e2c9714c",
   "metadata": {},
   "outputs": [],
   "source": [
    "# ------------------------------\n",
    "# 3. Standardize features\n",
    "# ------------------------------\n",
    "scaler = StandardScaler()\n",
    "X_train = scaler.fit_transform(X_train)\n",
    "X_val   = scaler.transform(X_val)\n",
    "X_test  = scaler.transform(X_test)\n"
   ]
  },
  {
   "cell_type": "code",
   "execution_count": 8,
   "id": "9415c09e",
   "metadata": {},
   "outputs": [
    {
     "name": "stderr",
     "output_type": "stream",
     "text": [
      "c:\\Users\\steve\\anaconda3\\envs\\py310env\\lib\\site-packages\\sklearn\\linear_model\\_logistic.py:1272: FutureWarning: 'multi_class' was deprecated in version 1.5 and will be removed in 1.7. From then on, it will always use 'multinomial'. Leave it to its default value to avoid this warning.\n",
      "  warnings.warn(\n"
     ]
    },
    {
     "name": "stdout",
     "output_type": "stream",
     "text": [
      "Validation accuracy: 0.5974025974025974\n"
     ]
    }
   ],
   "source": [
    "# ------------------------------\n",
    "# 4. Baseline model (Logistic Regression)\n",
    "# ------------------------------\n",
    "from sklearn.linear_model import LogisticRegression\n",
    "\n",
    "clf = LogisticRegression(max_iter=500, solver=\"lbfgs\", multi_class=\"multinomial\")\n",
    "clf.fit(X_train, y_train)\n",
    "\n",
    "print(\"Validation accuracy:\", clf.score(X_val, y_val))"
   ]
  },
  {
   "cell_type": "code",
   "execution_count": 10,
   "id": "04ce93b0",
   "metadata": {},
   "outputs": [
    {
     "name": "stdout",
     "output_type": "stream",
     "text": [
      "Test accuracy: 0.5883575883575883\n",
      "              precision    recall  f1-score   support\n",
      "\n",
      "           0       0.59      0.65      0.62       120\n",
      "           1       0.57      0.57      0.57       120\n",
      "           2       0.59      0.49      0.53       121\n",
      "           3       0.61      0.64      0.63       120\n",
      "\n",
      "    accuracy                           0.59       481\n",
      "   macro avg       0.59      0.59      0.59       481\n",
      "weighted avg       0.59      0.59      0.59       481\n",
      "\n"
     ]
    },
    {
     "data": {
      "image/png": "[encoded data removed]",
      "text/plain": [
       "<Figure size 640x480 with 2 Axes>"
      ]
     },
     "metadata": {},
     "output_type": "display_data"
    }
   ],
   "source": [
    "# ------------------------------\n",
    "# 5. Evaluate on Test\n",
    "# ------------------------------\n",
    "y_pred = clf.predict(X_test)\n",
    "print(\"Test accuracy:\", clf.score(X_test, y_test))\n",
    "print(classification_report(y_test, y_pred))\n",
    "\n",
    "# Optional: Confusion Matrix\n",
    "import matplotlib.pyplot as plt\n",
    "import seaborn as sns\n",
    "\n",
    "cm = confusion_matrix(y_test, y_pred)\n",
    "sns.heatmap(cm, annot=True, fmt=\"d\", cmap=\"Blues\")\n",
    "plt.xlabel(\"Predicted\")\n",
    "plt.ylabel(\"True\")\n",
    "plt.title(\"Confusion Matrix - Logistic Regression\")\n",
    "plt.show()"
   ]
  }
 ],
 "metadata": {
  "kernelspec": {
   "display_name": "py310env",
   "language": "python",
   "name": "python3"
  },
  "language_info": {
   "codemirror_mode": {
    "name": "ipython",
    "version": 3
   },
   "file_extension": ".py",
   "mimetype": "text/x-python",
   "name": "python",
   "nbconvert_exporter": "python",
   "pygments_lexer": "ipython3",
   "version": "3.10.18"
  }
 },
 "nbformat": 4,
 "nbformat_minor": 5
}
