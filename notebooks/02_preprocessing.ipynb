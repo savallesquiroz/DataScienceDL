{
 "cells": [
  {
   "cell_type": "code",
   "execution_count": null,
   "id": "125e830b",
   "metadata": {},
   "outputs": [],
   "source": [
    "# ------------------------------\n",
    "# 0. Setup\n",
    "# ------------------------------\n",
    "import mne\n",
    "import numpy as np\n",
    "import matplotlib.pyplot as plt\n",
    "\n",
    "# Path to your processed data\n",
    "clean_file = \"../data/processed/A01T_clean.fif\"\n",
    "\n",
    "# Load the preprocessed raw data\n",
    "raw_clean = mne.io.read_raw_fif(clean_file, preload=True)\n",
    "print(raw_clean)\n",
    "\n"
   ]
  }
 ],
 "metadata": {
  "kernelspec": {
   "display_name": "py310env",
   "language": "python",
   "name": "python3"
  },
  "language_info": {
   "name": "python",
   "version": "3.10.18"
  }
 },
 "nbformat": 4,
 "nbformat_minor": 5
}
